{
 "cells": [
  {
   "cell_type": "markdown",
   "metadata": {},
   "source": [
    "# Machine Learning\n",
    "## Exercise"
   ]
  },
  {
   "cell_type": "code",
   "execution_count": 9,
   "metadata": {},
   "outputs": [
    {
     "data": {
      "text/plain": [
       "Index(['rank', 'title', 'total ratings', 'installs', 'average rating',\n",
       "       'growth (30 days)', 'growth (60 days)', 'price', 'category',\n",
       "       '5 star ratings', '4 star ratings', '3 star ratings', '2 star ratings',\n",
       "       '1 star ratings', 'paid'],\n",
       "      dtype='object')"
      ]
     },
     "execution_count": 9,
     "metadata": {},
     "output_type": "execute_result"
    }
   ],
   "source": [
    "import pandas as pd\n",
    "df = pd.read_csv('android-games.csv')\n",
    "df.columns"
   ]
  },
  {
   "cell_type": "code",
   "execution_count": 27,
   "metadata": {},
   "outputs": [
    {
     "data": {
      "text/plain": [
       "array(['Football', 'Basket'], dtype=object)"
      ]
     },
     "execution_count": 27,
     "metadata": {},
     "output_type": "execute_result"
    }
   ],
   "source": [
    "import pandas as pd\n",
    "from sklearn.tree import DecisionTreeClassifier\n",
    "import joblib\n",
    "\n",
    "#df = pd.read_csv('sports.csv')\n",
    "#inputs = df.drop(columns=['deporte'])\n",
    "#outputs = df['deporte']\n",
    "\n",
    "#model = DecisionTreeClassifier()\n",
    "#model.fit(inputs.values, outputs)\n",
    "\n",
    "#joblib.dump(model, 'sports-ml.joblib')\n",
    "\n",
    "model = joblib.load('sports-ml.joblib')\n",
    "\n",
    "predictions = model.predict([[1,24], [2, 33]])\n",
    "predictions"
   ]
  }
 ],
 "metadata": {
  "kernelspec": {
   "display_name": "Python 3",
   "language": "python",
   "name": "python3"
  },
  "language_info": {
   "codemirror_mode": {
    "name": "ipython",
    "version": 3
   },
   "file_extension": ".py",
   "mimetype": "text/x-python",
   "name": "python",
   "nbconvert_exporter": "python",
   "pygments_lexer": "ipython3",
   "version": "3.11.7"
  }
 },
 "nbformat": 4,
 "nbformat_minor": 2
}
