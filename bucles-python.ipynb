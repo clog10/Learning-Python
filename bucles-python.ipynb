{
 "cells": [
  {
   "cell_type": "markdown",
   "metadata": {},
   "source": [
    "# Bucles"
   ]
  },
  {
   "cell_type": "markdown",
   "metadata": {},
   "source": [
    "## While"
   ]
  },
  {
   "cell_type": "code",
   "execution_count": 14,
   "metadata": {},
   "outputs": [
    {
     "name": "stdout",
     "output_type": "stream",
     "text": [
      "Counter: 1\n",
      "Counter: 2\n",
      "Counter: 4\n",
      "Counter: 5\n",
      "Counter: 6\n"
     ]
    }
   ],
   "source": [
    "counter = 0\n",
    "while counter <= 5:\n",
    "    counter+=1\n",
    "    if counter == 3:\n",
    "        continue\n",
    "    print(\"Counter: \" + str(counter))\n",
    "    "
   ]
  },
  {
   "cell_type": "code",
   "execution_count": 15,
   "metadata": {},
   "outputs": [
    {
     "name": "stdout",
     "output_type": "stream",
     "text": [
      "\n",
      "\n",
      "\n",
      "\n",
      "salir\n"
     ]
    }
   ],
   "source": [
    "continueTalk = True\n",
    "while continueTalk:\n",
    "    text = input('> ')\n",
    "    if text == 'salir':\n",
    "        continueTalk = False\n",
    "    text = text.replace(':)', '😺')\n",
    "    text = text.replace(':(', '😿')\n",
    "    text = text.replace(':*', '😽')\n",
    "    text = text.replace(':o', '🙀')\n",
    "    text = text.replace(':)', '😺')\n",
    "    text = text.replace(':s', '😼')\n",
    "    text = text.replace('<3', '🫀')\n",
    "\n",
    "    print(text)\n"
   ]
  },
  {
   "cell_type": "markdown",
   "metadata": {},
   "source": [
    "## For"
   ]
  },
  {
   "cell_type": "code",
   "execution_count": 16,
   "metadata": {},
   "outputs": [
    {
     "name": "stdout",
     "output_type": "stream",
     "text": [
      "banana\n",
      "apple\n",
      "pineapple\n"
     ]
    }
   ],
   "source": [
    "fruits = ['banana', 'apple', 'pineapple']\n",
    "\n",
    "for fruit in fruits:\n",
    "    print(fruit)"
   ]
  },
  {
   "cell_type": "code",
   "execution_count": 17,
   "metadata": {},
   "outputs": [
    {
     "name": "stdout",
     "output_type": "stream",
     "text": [
      "h\n",
      "e\n",
      "l\n",
      "l\n",
      "o\n"
     ]
    }
   ],
   "source": [
    "text = \"hello\"\n",
    "\n",
    "for letter in text:\n",
    "    print(letter)"
   ]
  },
  {
   "cell_type": "code",
   "execution_count": 20,
   "metadata": {},
   "outputs": [
    {
     "name": "stdout",
     "output_type": "stream",
     "text": [
      "5\n",
      "6\n",
      "7\n",
      "8\n",
      "9\n",
      "5\n",
      "6\n",
      "7\n",
      "8\n",
      "9\n"
     ]
    }
   ],
   "source": [
    "for number in range(10):\n",
    "    if(number > 4):\n",
    "        print(number)\n",
    "\n",
    "for number in range(5,10):\n",
    "    print(number)"
   ]
  }
 ],
 "metadata": {
  "kernelspec": {
   "display_name": "Python 3",
   "language": "python",
   "name": "python3"
  },
  "language_info": {
   "codemirror_mode": {
    "name": "ipython",
    "version": 3
   },
   "file_extension": ".py",
   "mimetype": "text/x-python",
   "name": "python",
   "nbconvert_exporter": "python",
   "pygments_lexer": "ipython3",
   "version": "3.11.7"
  }
 },
 "nbformat": 4,
 "nbformat_minor": 2
}
