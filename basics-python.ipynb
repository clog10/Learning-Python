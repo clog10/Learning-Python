{
 "cells": [
  {
   "cell_type": "markdown",
   "metadata": {},
   "source": [
    "# Hello World"
   ]
  },
  {
   "cell_type": "code",
   "execution_count": 33,
   "metadata": {},
   "outputs": [
    {
     "name": "stdout",
     "output_type": "stream",
     "text": [
      "Hello world from Python, I'm Carlos, I'm 25 years old\n"
     ]
    }
   ],
   "source": [
    "name = 'Carlos'\n",
    "age = 25\n",
    "print(\"Hello world from Python, I'm \" + name + \", I'm \" + str(age) + ' years old')"
   ]
  },
  {
   "cell_type": "code",
   "execution_count": 34,
   "metadata": {},
   "outputs": [
    {
     "name": "stdout",
     "output_type": "stream",
     "text": [
      "Hello \n"
     ]
    }
   ],
   "source": [
    "name = input(\"What's your name?\")\n",
    "print(\"Hello \" + name)"
   ]
  },
  {
   "cell_type": "markdown",
   "metadata": {},
   "source": [
    "# Conditional"
   ]
  },
  {
   "cell_type": "code",
   "execution_count": 35,
   "metadata": {},
   "outputs": [
    {
     "name": "stdout",
     "output_type": "stream",
     "text": [
      "Young\n"
     ]
    }
   ],
   "source": [
    "age = 17\n",
    "if(age>=18) & (age<=70):\n",
    "    print(\"Adult\")\n",
    "elif(age>70):\n",
    "    print(\"Older\")\n",
    "else:\n",
    "    print(\"Young\")"
   ]
  },
  {
   "cell_type": "code",
   "execution_count": 37,
   "metadata": {},
   "outputs": [
    {
     "name": "stdout",
     "output_type": "stream",
     "text": [
      "Adult\n",
      "You can pass\n"
     ]
    }
   ],
   "source": [
    "age = int(input(\"How old are you?\")) > 18\n",
    "height = int(input(\"What's your height? (cm)\")) > 150\n",
    "if age:\n",
    "    print(\"Adult\")\n",
    "\n",
    "if age | height:\n",
    "    print(\"You can pass\")\n",
    "else:\n",
    "    print(\"You can't pass\")"
   ]
  },
  {
   "cell_type": "markdown",
   "metadata": {},
   "source": [
    "# Arithmetic operators"
   ]
  },
  {
   "cell_type": "code",
   "execution_count": null,
   "metadata": {},
   "outputs": [
    {
     "name": "stdout",
     "output_type": "stream",
     "text": [
      "Pair\n",
      "20\n",
      "0\n",
      "1.0\n",
      "100\n"
     ]
    }
   ],
   "source": [
    "number = int(input(\"Enter a number\"))\n",
    "if number % 2 == 0:\n",
    "    print(\"Pair\")\n",
    "else:\n",
    "    print(\"Odd\")\n",
    "\n",
    "print(number + number)\n",
    "print(number - number)\n",
    "print(number / number)\n",
    "print(number * number)"
   ]
  },
  {
   "cell_type": "markdown",
   "metadata": {},
   "source": [
    "# Functions"
   ]
  },
  {
   "cell_type": "code",
   "execution_count": 43,
   "metadata": {},
   "outputs": [
    {
     "name": "stdout",
     "output_type": "stream",
     "text": [
      "28.570484872506274\n",
      "Excess weight\n"
     ]
    }
   ],
   "source": [
    "# IMC Calculator\n",
    "# IMC = weight /(height * height)\n",
    "# < 19 = thin\n",
    "# > 20 & < 25 = normal\n",
    "# > 26 & < 30 = excess weight\n",
    "# > 30 = Obesity\n",
    "\n",
    "def calculateImc():\n",
    "    weight = float(input(\"Enter your weight in kg\"))\n",
    "    height = int(input(\"Enter your height in cm\")) / 100\n",
    "\n",
    "    imc = weight / (height * height)\n",
    "    print(imc)\n",
    "\n",
    "    if imc < 20:\n",
    "        print(\"Thin\")\n",
    "    elif imc >= 20 and imc < 26:\n",
    "        print(\"normal\")\n",
    "    elif imc >= 26 and imc < 31:\n",
    "        print(\"Excess weight\")\n",
    "    elif imc > 30:\n",
    "        print(\"Obesity\")\n",
    "\n",
    "\n",
    "calculateImc()"
   ]
  }
 ],
 "metadata": {
  "kernelspec": {
   "display_name": "Python 3",
   "language": "python",
   "name": "python3"
  },
  "language_info": {
   "codemirror_mode": {
    "name": "ipython",
    "version": 3
   },
   "file_extension": ".py",
   "mimetype": "text/x-python",
   "name": "python",
   "nbconvert_exporter": "python",
   "pygments_lexer": "ipython3",
   "version": "3.11.7"
  }
 },
 "nbformat": 4,
 "nbformat_minor": 2
}
