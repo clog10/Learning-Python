{
 "cells": [
  {
   "cell_type": "markdown",
   "metadata": {},
   "source": [
    "# Arrays"
   ]
  },
  {
   "cell_type": "code",
   "execution_count": 2,
   "metadata": {},
   "outputs": [
    {
     "name": "stdout",
     "output_type": "stream",
     "text": [
      "['banana', 'apple', 'pineapple']\n"
     ]
    }
   ],
   "source": [
    "array = ['banana', 'apple', 'pineapple']\n",
    "\n",
    "print(array)"
   ]
  },
  {
   "cell_type": "markdown",
   "metadata": {},
   "source": [
    "## Dictionary"
   ]
  },
  {
   "cell_type": "code",
   "execution_count": 8,
   "metadata": {},
   "outputs": [
    {
     "name": "stdout",
     "output_type": "stream",
     "text": [
      "Objet Oriented Programming\n",
      "5221475: five two two one four seven five \n"
     ]
    }
   ],
   "source": [
    "dictionary = {\n",
    "    'OOP': 'Objet Oriented Programming',\n",
    "    'MVC': 'Model View Controller'\n",
    "}\n",
    "\n",
    "print(dictionary['OOP'])\n",
    "\n",
    "numbers = {\n",
    "    '0': 'zero',\n",
    "    '1': 'one',\n",
    "    '2': 'two',\n",
    "    '3': 'three',\n",
    "    '4': 'four',\n",
    "    '5': 'five',\n",
    "    '6': 'six',\n",
    "    '7': 'seven',\n",
    "    '8': 'eight',\n",
    "    '9': 'nine'\n",
    "}\n",
    "\n",
    "text = input('Enter a number')\n",
    "\n",
    "finalText = ''\n",
    "for number in text:\n",
    "    finalText += numbers[number] + ' '\n",
    "\n",
    "print(text + ': ' + finalText)"
   ]
  }
 ],
 "metadata": {
  "kernelspec": {
   "display_name": "Python 3",
   "language": "python",
   "name": "python3"
  },
  "language_info": {
   "codemirror_mode": {
    "name": "ipython",
    "version": 3
   },
   "file_extension": ".py",
   "mimetype": "text/x-python",
   "name": "python",
   "nbconvert_exporter": "python",
   "pygments_lexer": "ipython3",
   "version": "3.11.7"
  }
 },
 "nbformat": 4,
 "nbformat_minor": 2
}
