{
 "cells": [
  {
   "cell_type": "markdown",
   "metadata": {},
   "source": [
    "# Arrays"
   ]
  },
  {
   "cell_type": "code",
   "execution_count": 1,
   "metadata": {},
   "outputs": [
    {
     "name": "stdout",
     "output_type": "stream",
     "text": [
      "['banana', 'apple', 'pineapple']\n"
     ]
    }
   ],
   "source": [
    "array = ['banana', 'apple', 'pineapple']\n",
    "\n",
    "print(array)"
   ]
  },
  {
   "cell_type": "markdown",
   "metadata": {},
   "source": [
    "## Dictionary"
   ]
  },
  {
   "cell_type": "code",
   "execution_count": 2,
   "metadata": {},
   "outputs": [
    {
     "name": "stdout",
     "output_type": "stream",
     "text": [
      "Objet Oriented Programming\n",
      "156: one five six \n"
     ]
    }
   ],
   "source": [
    "dictionary = {\n",
    "    'OOP': 'Objet Oriented Programming',\n",
    "    'MVC': 'Model View Controller'\n",
    "}\n",
    "\n",
    "print(dictionary['OOP'])\n",
    "\n",
    "numbers = {\n",
    "    '0': 'zero',\n",
    "    '1': 'one',\n",
    "    '2': 'two',\n",
    "    '3': 'three',\n",
    "    '4': 'four',\n",
    "    '5': 'five',\n",
    "    '6': 'six',\n",
    "    '7': 'seven',\n",
    "    '8': 'eight',\n",
    "    '9': 'nine'\n",
    "}\n",
    "\n",
    "text = input('Enter a number')\n",
    "\n",
    "finalText = ''\n",
    "for number in text:\n",
    "    finalText += numbers[number] + ' '\n",
    "\n",
    "print(text + ': ' + finalText)"
   ]
  },
  {
   "cell_type": "markdown",
   "metadata": {},
   "source": [
    "## Multidimensional Array"
   ]
  },
  {
   "cell_type": "code",
   "execution_count": 8,
   "metadata": {},
   "outputs": [
    {
     "name": "stdout",
     "output_type": "stream",
     "text": [
      "[34.5, 45.6, '2022/02/02 17:20:24']\n",
      "[34.5, 46.3, '2022/02/02 17:20:34']\n",
      "[35.5, 47.3, '2022/02/02 17:20:44']\n",
      "[34.5, 48.3, '2022/02/02 17:20:54']\n",
      "[33.5, 49.3, '2022/02/02 17:20:04']\n",
      "34.5\n",
      "45.6\n",
      "2022/02/02 17:20:24\n",
      "34.5\n",
      "46.3\n",
      "2022/02/02 17:20:34\n",
      "35.5\n",
      "47.3\n",
      "2022/02/02 17:20:44\n",
      "34.5\n",
      "48.3\n",
      "2022/02/02 17:20:54\n",
      "33.5\n",
      "49.3\n",
      "2022/02/02 17:20:04\n"
     ]
    }
   ],
   "source": [
    "lat = 34.5\n",
    "lon = 45.6\n",
    "position = [lat, lon]\n",
    "\n",
    "historial = [\n",
    "    [34.5, 45.6, \"2022/02/02 17:20:24\"],\n",
    "    [34.5, 46.3, \"2022/02/02 17:20:34\"],\n",
    "    [35.5, 47.3, \"2022/02/02 17:20:44\"],\n",
    "    [34.5, 48.3, \"2022/02/02 17:20:54\"],\n",
    "    [33.5, 49.3, \"2022/02/02 17:20:04\"]\n",
    "]\n",
    "\n",
    "for coord in historial:\n",
    "    print(coord)\n",
    "\n",
    "for coord in historial:\n",
    "    for c in coord:\n",
    "        print(c)"
   ]
  }
 ],
 "metadata": {
  "kernelspec": {
   "display_name": "Python 3",
   "language": "python",
   "name": "python3"
  },
  "language_info": {
   "codemirror_mode": {
    "name": "ipython",
    "version": 3
   },
   "file_extension": ".py",
   "mimetype": "text/x-python",
   "name": "python",
   "nbconvert_exporter": "python",
   "pygments_lexer": "ipython3",
   "version": "3.11.7"
  }
 },
 "nbformat": 4,
 "nbformat_minor": 2
}
