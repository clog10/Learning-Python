{
 "cells": [
  {
   "cell_type": "markdown",
   "metadata": {},
   "source": [
    "# Files"
   ]
  },
  {
   "cell_type": "markdown",
   "metadata": {},
   "source": [
    "## Create File"
   ]
  },
  {
   "cell_type": "code",
   "execution_count": 50,
   "metadata": {},
   "outputs": [
    {
     "name": "stdout",
     "output_type": "stream",
     "text": [
      "Save Test in file\n"
     ]
    }
   ],
   "source": [
    "text = \"Save Test in file\"\n",
    "f = open('text.txt', 'a')\n",
    "f.write(text)\n",
    "f.close\n",
    "\n",
    "file = open('text.txt', 'r')\n",
    "print(file.read())"
   ]
  },
  {
   "cell_type": "markdown",
   "metadata": {},
   "source": [
    "## Exercise"
   ]
  },
  {
   "cell_type": "code",
   "execution_count": 34,
   "metadata": {},
   "outputs": [
    {
     "name": "stdout",
     "output_type": "stream",
     "text": [
      "Encrypt\n",
      "prueba de inicio\n",
      "pxrxuxexbxax xdxex xixnxixcxixox\n",
      "-------------------------------------------\n",
      "Decrypt\n",
      "pxrxuxexbxax xdxex xixnxixcxixox\n",
      "p 0\n",
      "pr 2\n",
      "pru 4\n",
      "prue 6\n",
      "prueb 8\n",
      "prueba 10\n",
      "prueba  12\n",
      "prueba d 14\n",
      "prueba de 16\n",
      "prueba de  18\n",
      "prueba de i 20\n",
      "prueba de in 22\n",
      "prueba de ini 24\n",
      "prueba de inic 26\n",
      "prueba de inici 28\n",
      "prueba de inicio 30\n",
      "+++++++++++++++++\n",
      "prueba de inicio\n"
     ]
    }
   ],
   "source": [
    "def encrypt(text):\n",
    "    print(text)\n",
    "    finalText = ''\n",
    "    for letter in text:\n",
    "        finalText += letter + 'x'\n",
    "    print(finalText)\n",
    "\n",
    "def decrypt(text):\n",
    "    print(text)\n",
    "    finalText = ''\n",
    "    counter = 0\n",
    "    for letter in text:\n",
    "        if counter % 2 == 0:\n",
    "            finalText += letter\n",
    "            print(finalText + ' ' + str(counter))\n",
    "        counter+=1\n",
    "    print('+++++++++++++++++')\n",
    "    print(finalText)\n",
    "\n",
    "print('Encrypt')\n",
    "encrypt('prueba de inicio')\n",
    "print('-------------------------------------------')\n",
    "print('Decrypt')\n",
    "decrypt('pxrxuxexbxax xdxex xixnxixcxixox')"
   ]
  },
  {
   "cell_type": "code",
   "execution_count": 53,
   "metadata": {},
   "outputs": [],
   "source": [
    "def encrypt(text):\n",
    "    finalText = ''\n",
    "    for letter in text:\n",
    "        letterCode = ord(letter)\n",
    "        letterCode += 1\n",
    "        finalText += chr(letterCode)\n",
    "    return finalText\n",
    "\n",
    "def decrypt(text):\n",
    "    finalText = ''\n",
    "    for letter in text:\n",
    "        letterCode = ord(letter)\n",
    "        letterCode -= 1\n",
    "        finalText += chr(letterCode)\n",
    "    return finalText\n",
    "\n",
    "def encryptFile():\n",
    "    file = open('text.txt', 'r')\n",
    "    text = file.read()\n",
    "    file.close\n",
    "    encryptedText = encrypt(text)\n",
    "\n",
    "    file = open('text.txt', 'w')\n",
    "    file.write(encryptedText)\n",
    "    file.close\n",
    "\n",
    "def decryptFile():\n",
    "    file = open('text.txt', 'r')\n",
    "    text = file.read()\n",
    "    file.close\n",
    "    decryptText = decrypt(text)\n",
    "\n",
    "    file = open('text.txt', 'w')\n",
    "    file.write(decryptText)\n",
    "    file.close\n",
    "\n",
    "#encryptFile()\n",
    "decryptFile()"
   ]
  }
 ],
 "metadata": {
  "kernelspec": {
   "display_name": "Python 3",
   "language": "python",
   "name": "python3"
  },
  "language_info": {
   "codemirror_mode": {
    "name": "ipython",
    "version": 3
   },
   "file_extension": ".py",
   "mimetype": "text/x-python",
   "name": "python",
   "nbconvert_exporter": "python",
   "pygments_lexer": "ipython3",
   "version": "3.11.7"
  }
 },
 "nbformat": 4,
 "nbformat_minor": 2
}
