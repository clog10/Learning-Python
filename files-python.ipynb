{
 "cells": [
  {
   "cell_type": "markdown",
   "metadata": {},
   "source": [
    "# Files"
   ]
  },
  {
   "cell_type": "markdown",
   "metadata": {},
   "source": [
    "## Create File"
   ]
  },
  {
   "cell_type": "code",
   "execution_count": 25,
   "metadata": {},
   "outputs": [
    {
     "name": "stdout",
     "output_type": "stream",
     "text": [
      "Save Test in fileSave Test in fileSave Test in fileSave Test in file\n",
      "Save Test in file\n",
      "Save Test in file\n",
      "Save Test in file\n",
      "Save Test in file\n",
      "Save Test in file\n"
     ]
    }
   ],
   "source": [
    "text = \"\\nSave Test in file\"\n",
    "f = open('text.txt', 'a')\n",
    "f.write(text)\n",
    "f.close\n",
    "\n",
    "file = open('text.txt', 'r')\n",
    "print(file.read())"
   ]
  },
  {
   "cell_type": "markdown",
   "metadata": {},
   "source": [
    "## Exercise"
   ]
  },
  {
   "cell_type": "code",
   "execution_count": 34,
   "metadata": {},
   "outputs": [
    {
     "name": "stdout",
     "output_type": "stream",
     "text": [
      "Encrypt\n",
      "prueba de inicio\n",
      "pxrxuxexbxax xdxex xixnxixcxixox\n",
      "-------------------------------------------\n",
      "Decrypt\n",
      "pxrxuxexbxax xdxex xixnxixcxixox\n",
      "p 0\n",
      "pr 2\n",
      "pru 4\n",
      "prue 6\n",
      "prueb 8\n",
      "prueba 10\n",
      "prueba  12\n",
      "prueba d 14\n",
      "prueba de 16\n",
      "prueba de  18\n",
      "prueba de i 20\n",
      "prueba de in 22\n",
      "prueba de ini 24\n",
      "prueba de inic 26\n",
      "prueba de inici 28\n",
      "prueba de inicio 30\n",
      "+++++++++++++++++\n",
      "prueba de inicio\n"
     ]
    }
   ],
   "source": [
    "def encrypt(text):\n",
    "    print(text)\n",
    "    finalText = ''\n",
    "    for letter in text:\n",
    "        finalText += letter + 'x'\n",
    "    print(finalText)\n",
    "\n",
    "def decrypt(text):\n",
    "    print(text)\n",
    "    finalText = ''\n",
    "    counter = 0\n",
    "    for letter in text:\n",
    "        if counter % 2 == 0:\n",
    "            finalText += letter\n",
    "            print(finalText + ' ' + str(counter))\n",
    "        counter+=1\n",
    "    print('+++++++++++++++++')\n",
    "    print(finalText)\n",
    "\n",
    "print('Encrypt')\n",
    "encrypt('prueba de inicio')\n",
    "print('-------------------------------------------')\n",
    "print('Decrypt')\n",
    "decrypt('pxrxuxexbxax xdxex xixnxixcxixox')"
   ]
  }
 ],
 "metadata": {
  "kernelspec": {
   "display_name": "Python 3",
   "language": "python",
   "name": "python3"
  },
  "language_info": {
   "codemirror_mode": {
    "name": "ipython",
    "version": 3
   },
   "file_extension": ".py",
   "mimetype": "text/x-python",
   "name": "python",
   "nbconvert_exporter": "python",
   "pygments_lexer": "ipython3",
   "version": "3.11.7"
  }
 },
 "nbformat": 4,
 "nbformat_minor": 2
}
