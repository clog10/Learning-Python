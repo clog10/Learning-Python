{
 "cells": [
  {
   "cell_type": "markdown",
   "metadata": {},
   "source": [
    "# Files"
   ]
  },
  {
   "cell_type": "markdown",
   "metadata": {},
   "source": [
    "## Create File"
   ]
  },
  {
   "cell_type": "code",
   "execution_count": 24,
   "metadata": {},
   "outputs": [
    {
     "name": "stdout",
     "output_type": "stream",
     "text": [
      "Save Test in fileSave Test in fileSave Test in fileSave Test in file\n",
      "Save Test in file\n",
      "Save Test in file\n",
      "Save Test in file\n",
      "Save Test in file\n"
     ]
    }
   ],
   "source": [
    "text = \"\\nSave Test in file\"\n",
    "f = open('text.txt', 'a')\n",
    "f.write(text)\n",
    "f.close\n",
    "\n",
    "file = open('text.txt', 'r')\n",
    "print(file.read())"
   ]
  }
 ],
 "metadata": {
  "kernelspec": {
   "display_name": "Python 3",
   "language": "python",
   "name": "python3"
  },
  "language_info": {
   "codemirror_mode": {
    "name": "ipython",
    "version": 3
   },
   "file_extension": ".py",
   "mimetype": "text/x-python",
   "name": "python",
   "nbconvert_exporter": "python",
   "pygments_lexer": "ipython3",
   "version": "3.11.7"
  }
 },
 "nbformat": 4,
 "nbformat_minor": 2
}
