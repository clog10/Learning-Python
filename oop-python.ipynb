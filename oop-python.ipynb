{
 "cells": [
  {
   "cell_type": "markdown",
   "metadata": {},
   "source": [
    "# Object Oriented Programming"
   ]
  },
  {
   "cell_type": "code",
   "execution_count": 3,
   "metadata": {},
   "outputs": [
    {
     "name": "stdout",
     "output_type": "stream",
     "text": [
      "120\n"
     ]
    }
   ],
   "source": [
    "class Rectangle:\n",
    "    def __init__(self, weight, height):\n",
    "        self.weight = weight\n",
    "        self.height = height\n",
    "\n",
    "    def area(self):\n",
    "        area = self.height * self.weight\n",
    "        return area\n",
    "\n",
    "\n",
    "figure = Rectangle(10, 12)\n",
    "print(figure.area())"
   ]
  },
  {
   "cell_type": "code",
   "execution_count": 17,
   "metadata": {},
   "outputs": [
    {
     "name": "stdout",
     "output_type": "stream",
     "text": [
      "Name: Carlos Loaeza\n",
      "ID: 5158896\n",
      "Phone: 0000000000\n",
      "Salary: 88520\n",
      "-------------------\n",
      "Name: Valeria Zarate\n",
      "ID: 515885\n",
      "Phone: 000000000\n",
      "Category: VIP\n"
     ]
    }
   ],
   "source": [
    "class Person:\n",
    "    def __init__(self, name, lastname, id, phone):\n",
    "        self.name = name\n",
    "        self.lastname = lastname\n",
    "        self.id = id\n",
    "        self.phone = phone\n",
    "\n",
    "    def __str__(self) -> str:\n",
    "        return \"Name: \" + self.name + \" \" + self.lastname + \"\\nID: \" + self.id + \"\\nPhone: \" + self.phone\n",
    "\n",
    "class Employee(Person):\n",
    "    def __init__(self, name, lastname, id, phone, salary):\n",
    "        super().__init__(name, lastname, id, phone)\n",
    "        self.salary = salary\n",
    "\n",
    "    def __str__(self) -> str:\n",
    "        return super().__str__() + \"\\nSalary: \" + str(self.salary)\n",
    "\n",
    "class Client(Person):\n",
    "    def __init__(self, name, lastname, id, phone, category):\n",
    "        super().__init__(name, lastname, id, phone)\n",
    "        self.category = category\n",
    "\n",
    "    def __str__(self) -> str:\n",
    "        return super().__str__() + \"\\nCategory: \" + self.category\n",
    "\n",
    "emp = Employee(\"Carlos\", \"Loaeza\", \"5158896\", \"0000000000\", 88520)\n",
    "cli = Client(\"Valeria\", \"Zarate\", \"515885\", \"000000000\", \"VIP\")\n",
    "\n",
    "print(emp)\n",
    "print(\"-------------------\")\n",
    "print(cli)"
   ]
  }
 ],
 "metadata": {
  "kernelspec": {
   "display_name": "Python 3",
   "language": "python",
   "name": "python3"
  },
  "language_info": {
   "codemirror_mode": {
    "name": "ipython",
    "version": 3
   },
   "file_extension": ".py",
   "mimetype": "text/x-python",
   "name": "python",
   "nbconvert_exporter": "python",
   "pygments_lexer": "ipython3",
   "version": "3.11.7"
  }
 },
 "nbformat": 4,
 "nbformat_minor": 2
}
